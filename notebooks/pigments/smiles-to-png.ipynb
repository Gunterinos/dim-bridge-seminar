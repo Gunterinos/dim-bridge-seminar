{
 "cells": [
  {
   "cell_type": "code",
   "execution_count": null,
   "id": "fe173df4",
   "metadata": {},
   "outputs": [],
   "source": [
    "import os\n",
    "\n",
    "import pandas as pd\n",
    "\n",
    "# url encoding\n",
    "from urllib.parse import quote \n"
   ]
  },
  {
   "cell_type": "code",
   "execution_count": null,
   "id": "7587bdb7",
   "metadata": {},
   "outputs": [],
   "source": [
    "df = pd.read_csv('./pigments.csv')\n",
    "smiles_list = df['smiles'].tolist()\n",
    "smiles_list[:5]"
   ]
  },
  {
   "cell_type": "code",
   "execution_count": null,
   "id": "2d080e9e",
   "metadata": {},
   "outputs": [],
   "source": [
    "# with open('smiles.csv', 'w') as f:\n",
    "#     f.write('\\n'.join(smiles_list))"
   ]
  },
  {
   "cell_type": "markdown",
   "id": "659cd326",
   "metadata": {},
   "source": [
    "# download images (png or svg)"
   ]
  },
  {
   "cell_type": "code",
   "execution_count": null,
   "id": "43f728ff",
   "metadata": {},
   "outputs": [],
   "source": [
    "# !docker run -p 8081:8080 simolecule/cdkdepict:latest"
   ]
  },
  {
   "cell_type": "code",
   "execution_count": null,
   "id": "8a5923c1",
   "metadata": {},
   "outputs": [],
   "source": [
    "import requests\n",
    "from tqdm.auto import tqdm"
   ]
  },
  {
   "cell_type": "code",
   "execution_count": null,
   "id": "f89c7d9c",
   "metadata": {},
   "outputs": [],
   "source": [
    "## test\n",
    "\n",
    "# smile = quote(smiles_list[22])\n",
    "# url_png = f'http://localhost:8081/depict/cot/png?smi={smile}&w=-1&h=-1&abbr=on&hdisp=bridgehead&zoom=1.3&annotate=none&r=0'\n",
    "# req = requests.get(url_png)\n",
    "# with open(f'22.png', 'wb') as f:\n",
    "#     f.write(req.content)"
   ]
  },
  {
   "cell_type": "code",
   "execution_count": null,
   "id": "bca093e4",
   "metadata": {},
   "outputs": [],
   "source": []
  },
  {
   "cell_type": "code",
   "execution_count": null,
   "id": "2cbac26c",
   "metadata": {},
   "outputs": [],
   "source": [
    "# !mkdir png\n",
    "os.makedirs('png', exist_ok=True)\n",
    "# smile = 'Nc1ccc(O)c2c1C(=O)c1ccccc1C2=O'\n",
    "for i, smile in enumerate(tqdm(smiles_list)):\n",
    "    smile = quote(smile)\n",
    "    url_png = f'http://localhost:8081/depict/cot/png?smi={smile}&w=-1&h=-1&abbr=on&hdisp=bridgehead&zoom=1.3&annotate=none&r=0'\n",
    "    req = requests.get(url_png)\n",
    "    with open(f'png/{i}.png', 'wb') as f:\n",
    "        f.write(req.content)\n"
   ]
  },
  {
   "cell_type": "code",
   "execution_count": null,
   "id": "07e42853",
   "metadata": {},
   "outputs": [],
   "source": [
    "# SVG\n",
    "# os.makedirs('svg', exist_ok=True)\n",
    "# smile = 'Nc1ccc(O)c2c1C(=O)c1ccccc1C2=O'\n",
    "for i, smile in enumerate(tqdm(smiles_list)):\n",
    "    smile = quote(smile)\n",
    "    url_svg = f\"http://localhost:8081/depict/cot/svg?smi={smile}&amp;w=-1&amp;h=-1&amp;abbr=on&amp;hdisp=bridgehead&amp;zoom=1.3&amp;annotate=none&amp;r=0\"\n",
    "    req = requests.get(url_svg)\n",
    "    with open(f'svg/{i}.svg', 'wb') as f:\n",
    "        f.write(req.content)\n"
   ]
  },
  {
   "cell_type": "code",
   "execution_count": null,
   "id": "f5cb9744",
   "metadata": {},
   "outputs": [],
   "source": []
  }
 ],
 "metadata": {
  "kernelspec": {
   "display_name": "Python 3 (ipykernel)",
   "language": "python",
   "name": "python3"
  },
  "language_info": {
   "codemirror_mode": {
    "name": "ipython",
    "version": 3
   },
   "file_extension": ".py",
   "mimetype": "text/x-python",
   "name": "python",
   "nbconvert_exporter": "python",
   "pygments_lexer": "ipython3",
   "version": "3.12.2"
  }
 },
 "nbformat": 4,
 "nbformat_minor": 5
}
