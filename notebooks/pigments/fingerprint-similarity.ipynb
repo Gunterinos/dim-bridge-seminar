{
 "cells": [
  {
   "cell_type": "code",
   "execution_count": null,
   "id": "fe173df4",
   "metadata": {},
   "outputs": [],
   "source": [
    "import pandas as pd\n",
    "\n",
    "# url encoding\n",
    "from urllib.parse import quote \n",
    "\n",
    "# import requests\n",
    "from tqdm.auto import tqdm\n",
    "import numpy as np\n",
    "\n",
    "from umap import UMAP\n",
    "from sklearn.manifold import TSNE\n",
    "\n",
    "import matplotlib.pyplot as plt\n",
    "plt.style.use('ggplot')\n",
    "plt.style.use('seaborn-v0_8-colorblind')\n"
   ]
  },
  {
   "cell_type": "code",
   "execution_count": null,
   "id": "f5b44773-c9dd-443f-acc5-fe275d0cdfad",
   "metadata": {},
   "outputs": [],
   "source": [
    "def count_bits(x: int):\n",
    "    return x.bit_count() # python 3.10 or later\n",
    "    # return bin(x)[2:].count(\"1\") # python 3.9 or earlier\n",
    "\n",
    "!python --version"
   ]
  },
  {
   "cell_type": "code",
   "execution_count": null,
   "id": "7587bdb7",
   "metadata": {},
   "outputs": [],
   "source": [
    "## load data\n",
    "\n",
    "df = pd.read_csv('../../../dim-bridge-data/semion-pigments/pigments_fp.csv', )\n",
    "df = df.drop(columns=['Unnamed: 0', 'Column1'])"
   ]
  },
  {
   "cell_type": "code",
   "execution_count": null,
   "id": "bc91c3b6-a1e1-4d23-bf53-ffb38963a2b6",
   "metadata": {},
   "outputs": [],
   "source": [
    "fp = df['fp'].tolist()"
   ]
  },
  {
   "cell_type": "code",
   "execution_count": null,
   "id": "b18e1d72",
   "metadata": {},
   "outputs": [],
   "source": [
    "## compute similarity & pairwise distance\n",
    "eps = 1e-2\n",
    "\n",
    "sim = np.zeros([len(fp), len(fp)])\n",
    "pdist = np.zeros([len(fp), len(fp)])\n",
    "l = len(fp[0])\n",
    "for i,f1 in enumerate(tqdm(fp)):\n",
    "    for j,f2 in enumerate(fp):\n",
    "        if i <= j: # assuming symmetry\n",
    "            \n",
    "            # difference = int(f1, 2) ^ int(f2, 2)\n",
    "            # # distance matrix\n",
    "            # d = count_bits(difference) / l\n",
    "            # pdist[i,j] = d\n",
    "            # # similarity matrix\n",
    "            # s = 1 - count_bits(difference) / l\n",
    "            # sim[i,j] = s\n",
    "\n",
    "            intersection = int(f1, 2) & int(f2, 2)\n",
    "            union = int(f1, 2) | int(f2, 2)\n",
    "            s = count_bits(intersection) / count_bits(union)\n",
    "            sim[i,j] = s # similarity matrix\n",
    "            # pdist[i,j] = (1-s)/(s+eps)\n",
    "            pdist[i,j] = (1-s)\n",
    "            \n",
    "            # assuming symmetry\n",
    "            pdist[j,i] = pdist[i,j]\n",
    "            sim[j,i] = sim[i,j]\n",
    "        \n",
    "print(pdist)\n",
    "\n",
    "plt.imshow(sim)\n",
    "plt.colorbar()\n",
    "plt.show()"
   ]
  },
  {
   "cell_type": "code",
   "execution_count": null,
   "id": "71f4717f-de10-4c9d-af88-91198bf07b1c",
   "metadata": {},
   "outputs": [],
   "source": [
    "# fp = np.array([[int(xi) for xi in x] for x in fp])"
   ]
  },
  {
   "cell_type": "code",
   "execution_count": null,
   "id": "807832a5",
   "metadata": {},
   "outputs": [],
   "source": [
    "# UMAP / t-SNE\n",
    "\n",
    "xy = UMAP(n_neighbors=15, min_dist=0.5, metric='precomputed', random_state=0).fit_transform(pdist)\n",
    "# xy = UMAP(min_dist=0.9, metric='jaccard').fit_transform(fp)\n",
    "# xy = TSNE( metric='precomputed').fit_transform(pdist)\n",
    "\n",
    "plt.scatter(xy[:,0], xy[:,1], s=10)\n",
    "plt.axis('equal')\n",
    "plt.show()"
   ]
  },
  {
   "cell_type": "code",
   "execution_count": null,
   "id": "c3011d5f-2ade-4912-ae85-11d61537e28b",
   "metadata": {},
   "outputs": [],
   "source": [
    "## prepare output table\n",
    "df_out = df.copy()\n",
    "\n",
    "# attach DR coordinates\n",
    "df_out['x'] = xy[:,0]\n",
    "df_out['y'] = xy[:,1]\n",
    "\n",
    "# attach image filename\n",
    "# df_out['image_filename'] = [f'{i}.png' for i in range(len(df))]\n",
    "df_out['image_url'] = [f'http://localhost:9001/static/pigments/images/{i}.png' for i in range(len(df))]\n",
    "\n",
    "\n",
    "# to csv\n",
    "df_out.to_csv('pigments_umap.csv', index=False)\n",
    "# df_out.head(5)"
   ]
  },
  {
   "cell_type": "code",
   "execution_count": null,
   "id": "5b1da42b-c632-4270-b94f-4ac6f3f45e8c",
   "metadata": {},
   "outputs": [],
   "source": [
    "# move to dim-bridge server\n",
    "\n",
    "!mv pigments_umap.csv ../../datasets/pigments/"
   ]
  },
  {
   "cell_type": "code",
   "execution_count": null,
   "id": "f21d865f-c8cc-4eca-b332-062228851f54",
   "metadata": {},
   "outputs": [],
   "source": []
  }
 ],
 "metadata": {
  "kernelspec": {
   "display_name": "Python 3 (ipykernel)",
   "language": "python",
   "name": "python3"
  },
  "language_info": {
   "codemirror_mode": {
    "name": "ipython",
    "version": 3
   },
   "file_extension": ".py",
   "mimetype": "text/x-python",
   "name": "python",
   "nbconvert_exporter": "python",
   "pygments_lexer": "ipython3",
   "version": "3.12.2"
  }
 },
 "nbformat": 4,
 "nbformat_minor": 5
}
