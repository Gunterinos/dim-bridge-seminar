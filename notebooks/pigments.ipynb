{
 "cells": [
  {
   "cell_type": "code",
   "execution_count": null,
   "id": "8a5923c1",
   "metadata": {},
   "outputs": [],
   "source": [
    "import requests\n",
    "import csv\n",
    "  \n",
    "from tqdm.auto import tqdm\n",
    "import pandas as pd\n",
    "\n",
    "import numpy as np\n",
    "import matplotlib.pyplot as plt\n",
    "\n",
    "plt.style.use('ggplot')\n",
    "plt.style.use('seaborn-v0_8-colorblind')"
   ]
  },
  {
   "cell_type": "code",
   "execution_count": null,
   "id": "43f500c5",
   "metadata": {},
   "outputs": [],
   "source": [
    "df = pd.read_csv('../dataset/pigments/pigments.csv')\n",
    "# df['Excitation Energy (nm)'] = df['Excitation Energy (nm)'].apply(lambda x:[float(v) for v in x[1:-1].split(', ')])\n",
    "# for i in range(len(df['Excitation Energy (nm)'][0])):\n",
    "#     df[f'ee{i}'] = [ee[i] for ee in df['Excitation Energy (nm)']]\n",
    "df = df.drop('Excitation Energy (nm)', axis=1)\n",
    "df = df.drop('Column1', axis=1)\n",
    "df"
   ]
  },
  {
   "cell_type": "code",
   "execution_count": null,
   "id": "6af9bcb6",
   "metadata": {},
   "outputs": [],
   "source": [
    "# save csv file for vis\n",
    "# df.iloc[:,3:8].to_csv('../dataset/pigments/pigments_clean.csv', index=False)"
   ]
  },
  {
   "cell_type": "code",
   "execution_count": null,
   "id": "350b6016",
   "metadata": {},
   "outputs": [],
   "source": [
    "df['x'] = xy[:,0]\n",
    "df['y'] = xy[:,1]\n",
    "df['image_filename'] = [f'{i}.png' for i in range(len(df))]"
   ]
  },
  {
   "cell_type": "code",
   "execution_count": null,
   "id": "b46b2681",
   "metadata": {},
   "outputs": [],
   "source": []
  },
  {
   "cell_type": "code",
   "execution_count": null,
   "id": "6e5bcd76",
   "metadata": {},
   "outputs": [],
   "source": [
    "df.to_csv('../dataset/pigments/pigments_umap.csv', index=False)"
   ]
  },
  {
   "cell_type": "code",
   "execution_count": null,
   "id": "0f20e2da",
   "metadata": {},
   "outputs": [],
   "source": [
    "from umap import UMAP\n",
    "data = df.iloc[:,3:8].to_numpy()\n",
    "xy = UMAP().fit_transform(data)\n",
    "\n"
   ]
  },
  {
   "cell_type": "code",
   "execution_count": null,
   "id": "13d1b12f",
   "metadata": {},
   "outputs": [],
   "source": [
    "plt.scatter(xy[:,0], xy[:,1], s=2)"
   ]
  },
  {
   "cell_type": "code",
   "execution_count": null,
   "id": "63202292",
   "metadata": {},
   "outputs": [],
   "source": []
  },
  {
   "cell_type": "code",
   "execution_count": null,
   "id": "9e0136ca",
   "metadata": {},
   "outputs": [],
   "source": [
    "df = df.drop('Excitation Energy (nm)', axis=1)\n"
   ]
  },
  {
   "cell_type": "code",
   "execution_count": null,
   "id": "5ea55938",
   "metadata": {},
   "outputs": [],
   "source": []
  },
  {
   "cell_type": "markdown",
   "id": "a4f13105",
   "metadata": {},
   "source": [
    "## SMILES to png"
   ]
  },
  {
   "cell_type": "code",
   "execution_count": null,
   "id": "699c3cd8",
   "metadata": {},
   "outputs": [],
   "source": [
    "# !rm -rf ../dataset/pigments/images/\n",
    "# !mkdir -p ../dataset/pigments/images/\n",
    "\n",
    "smiles = df['smiles'].tolist()\n",
    "for i,s in enumerate(smiles):\n",
    "    !obabel \"-:{s}\" -o png -O ../dataset/pigments/images/{i}.png"
   ]
  },
  {
   "cell_type": "code",
   "execution_count": null,
   "id": "d1639d6c",
   "metadata": {},
   "outputs": [],
   "source": []
  },
  {
   "cell_type": "code",
   "execution_count": null,
   "id": "2cbac26c",
   "metadata": {},
   "outputs": [],
   "source": []
  },
  {
   "cell_type": "code",
   "execution_count": null,
   "id": "f5cb9744",
   "metadata": {},
   "outputs": [],
   "source": []
  }
 ],
 "metadata": {
  "kernelspec": {
   "display_name": "Python 3 (ipykernel)",
   "language": "python",
   "name": "python3"
  },
  "language_info": {
   "codemirror_mode": {
    "name": "ipython",
    "version": 3
   },
   "file_extension": ".py",
   "mimetype": "text/x-python",
   "name": "python",
   "nbconvert_exporter": "python",
   "pygments_lexer": "ipython3",
   "version": "3.9.5"
  }
 },
 "nbformat": 4,
 "nbformat_minor": 5
}
