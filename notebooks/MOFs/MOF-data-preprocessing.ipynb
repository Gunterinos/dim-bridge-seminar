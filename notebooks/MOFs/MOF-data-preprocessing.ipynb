{
 "cells": [
  {
   "cell_type": "code",
   "execution_count": null,
   "id": "3b9f6a90",
   "metadata": {},
   "outputs": [],
   "source": [
    "import pandas as pd\n",
    "\n",
    "pd.options.mode.copy_on_write = True\n",
    "\n",
    "pd.set_option(\"display.max_colwidth\", None)\n",
    "pd.set_option(\"display.max_columns\", None)  # show all cols\n",
    "\n",
    "# url encoding\n",
    "from urllib.parse import quote\n",
    "\n",
    "# import requests\n",
    "from tqdm.auto import tqdm\n",
    "import numpy as np\n",
    "\n",
    "import matplotlib.pyplot as plt\n",
    "\n",
    "plt.style.use(\"ggplot\")\n",
    "plt.style.use(\"seaborn-v0_8-colorblind\")\n",
    "\n",
    "from seaborn import kdeplot\n",
    "\n",
    "from umap import UMAP\n",
    "from sklearn.manifold import TSNE"
   ]
  },
  {
   "cell_type": "code",
   "execution_count": null,
   "id": "cf8a09f2-2ffe-473a-ab45-6ee053ed17ef",
   "metadata": {},
   "outputs": [],
   "source": []
  },
  {
   "cell_type": "code",
   "execution_count": null,
   "id": "7cd627aa",
   "metadata": {},
   "outputs": [],
   "source": [
    "# df = pd.read_csv('../../../dim-bridge-data/fernando-MOF/function_FE_text_data_MOFs_2vis.csv')\n",
    "# df = pd.read_csv('../../../dim-bridge-data/fernando-MOF/polymorphs_data_DimBridge.csv')\n",
    "\n",
    "\n",
    "# # general:\n",
    "# # use both dLM_FE, FE\n",
    "# # LISAFP and LFS - want to preserve nan points if possible\n",
    "# # do not use polymorphic_family_ID\n",
    "# # set(df['synth']) # 10 => 0 , not numerical, dont use\n",
    "# df = pd.read_csv(\"GENERAL_data_DimBridge.csv\")\n",
    "# df[df[\"synth\"] == 10] = 0\n",
    "# df = df.drop([\"synth\", \"polymorphic_family_ID\"], axis=1)\n",
    "\n",
    "# poly:\n",
    "# use memberX, Family, Parent_MOF_name(categorical)\n",
    "df = pd.read_csv('POLYMORPHS_data_DimBridge.csv')\n",
    "\n",
    "# replace nan with random values\n",
    "for c in df.columns:\n",
    "    if df[c].isna().sum() > 0:\n",
    "        print(\"removing nans from\", c)\n",
    "        values = df.loc[~df[c].isna(), c].to_numpy()\n",
    "        m = df[c].isna().sum()\n",
    "        df.loc[df[c].isna(), c] = np.random.choice(values, m)\n",
    "        \n",
    "df.head(5)"
   ]
  },
  {
   "cell_type": "code",
   "execution_count": null,
   "id": "c9663814",
   "metadata": {},
   "outputs": [],
   "source": [
    "# # remove nan rows\n",
    "# df = df[~df.isna().any(axis=1)]"
   ]
  },
  {
   "cell_type": "code",
   "execution_count": null,
   "id": "41d6440e",
   "metadata": {},
   "outputs": [],
   "source": [
    "# right hand side / predicate\n",
    "\n",
    "## point similarity for UMAP / tSNE, 'textures'\n",
    "# ['metal_nonmetal_ratio', 'SE', 'LFS', 'LISAFP', 'SA_vol', 'SA_gra', 'inv_dens', 'VF']\n",
    "\n",
    "## attributes\n",
    "# ['fun_MW', 'fun_eps', 'fun_vol', 'fun_elen', 'delta_FE', 'delta_VF', 'FE', 'dLM_FE']\n",
    "\n",
    "## color by\n",
    "# ['synth', 'fun_full_name', 'fun_group']"
   ]
  },
  {
   "cell_type": "code",
   "execution_count": null,
   "id": "d9d0a7b9",
   "metadata": {},
   "outputs": [],
   "source": [
    "# umap_attrs = [\n",
    "#     'metal_nonmetal_ratio', 'SE',\n",
    "#     'LFS', 'LISAFP',  ## columns that have nans\n",
    "#     'SA_vol',\n",
    "#     'SA_gra', 'inv_dens', 'VF',\n",
    "# ]\n",
    "\n",
    "# umap_attrs = [\n",
    "#     \"LFS\",\n",
    "#     \"LISAFP\",\n",
    "#     \"SA_vol\",\n",
    "#     \"SA_gra\",\n",
    "#     \"inv_dens\",\n",
    "#     \"VF\",\n",
    "# ]\n",
    "# umap_attrs = ['fun_MW', 'fun_eps', 'fun_vol', 'fun_elen', 'fun_sat']\n",
    "\n",
    "\n",
    "# use all float64 columns in UMAP\n",
    "umap_attrs = [name for name, dtype in list(df.dtypes.items()) if dtype == np.float64]\n",
    "print(umap_attrs)\n",
    "\n",
    "data = df[umap_attrs].to_numpy()"
   ]
  },
  {
   "cell_type": "code",
   "execution_count": null,
   "id": "f1ee2bdd",
   "metadata": {},
   "outputs": [],
   "source": [
    "# normalize\n",
    "mu = np.array([np.mean(d[~np.isnan(d)]) for d in data.T])\n",
    "std = np.array([np.std(d[~np.isnan(d)]) for d in data.T])\n",
    "data = (data - mu) / std"
   ]
  },
  {
   "cell_type": "code",
   "execution_count": null,
   "id": "633372cb-f1a1-49b7-9279-b88b73c3416a",
   "metadata": {},
   "outputs": [],
   "source": []
  },
  {
   "cell_type": "code",
   "execution_count": null,
   "id": "03cbfaf0-30f5-4040-b90c-2283280b5cb1",
   "metadata": {},
   "outputs": [],
   "source": [
    "xy = UMAP(n_neighbors=30, min_dist=0.9).fit_transform(data)\n",
    "# xy = TSNE().fit_transform(data)"
   ]
  },
  {
   "cell_type": "code",
   "execution_count": null,
   "id": "9472aea3-d813-4ae9-84a7-3ef432ca9dad",
   "metadata": {},
   "outputs": [],
   "source": [
    "for column in df.columns:\n",
    "    if df[column].dtype == np.float64:\n",
    "        sca = plt.scatter(xy[:,1], xy[:,0], s=2, c=df[column])\n",
    "        plt.axis('equal')\n",
    "        plt.title(f'Colored by {column}')\n",
    "        plt.colorbar()\n",
    "        plt.show()\n",
    "        # break"
   ]
  },
  {
   "cell_type": "code",
   "execution_count": null,
   "id": "d11e2dd2-f77f-4e95-895e-e88870261903",
   "metadata": {},
   "outputs": [],
   "source": [
    "df['x'] = xy[:,0]\n",
    "df['y'] = xy[:,1]\n"
   ]
  },
  {
   "cell_type": "code",
   "execution_count": null,
   "id": "0f375db9-72a7-408b-8a22-eab776988148",
   "metadata": {},
   "outputs": [],
   "source": [
    "df.to_csv('polymorphs.csv', index=False)"
   ]
  },
  {
   "cell_type": "code",
   "execution_count": null,
   "id": "ef149c63",
   "metadata": {},
   "outputs": [],
   "source": [
    "# plot UMAP colored by 'fun_group'\n",
    "\n",
    "# color column\n",
    "# color_column = pd.CategoricalIndex(df['fun_group'], )\n",
    "color_column = pd.CategoricalIndex(\n",
    "    df[\"fun\"],\n",
    ")\n",
    "color_column.categories\n",
    "\n",
    "c = color_column.codes  # category to integer code\n",
    "n_categories = len(color_column.categories)\n",
    "\n",
    "\n",
    "plt.figure(figsize=[20, 12], dpi=120)\n",
    "sca = plt.scatter(xy[:, 0], xy[:, 1], s=20, c=c, cmap=\"tab20\", vmin=-0.5, vmax=n_categories - 0.5)\n",
    "plt.axis(\"equal\")\n",
    "\n",
    "# colorbar with custom tick labels\n",
    "cbar = plt.colorbar(sca, ticks=np.arange(n_categories))\n",
    "cbar.ax.set_yticklabels(color_column.categories)  # vertically oriented colorbar\n",
    "plt.show()"
   ]
  },
  {
   "cell_type": "code",
   "execution_count": null,
   "id": "f80ac467",
   "metadata": {},
   "outputs": [],
   "source": [
    "# append the umap coordinates and save data as a new csv file\n",
    "\n",
    "df[\"x\"] = xy[:, 0]\n",
    "df[\"y\"] = xy[:, 1]\n",
    "\n",
    "df.to_csv(\"mof_umap.csv\", index=False)"
   ]
  },
  {
   "cell_type": "code",
   "execution_count": null,
   "id": "e911c231",
   "metadata": {},
   "outputs": [],
   "source": [
    "# plt.figure(figsize=[20,12])\n",
    "# C = ['#a6cee3','#1f78b4','#b2df8a','#33a02c','#fb9a99','#e31a1c','#fdbf6f','#ff7f00','#cab2d6','#6a3d9a','#ffff99','#b15928', '#333']\n",
    "\n",
    "# for i, c in enumerate(C):\n",
    "#     subset = np.array(fun_full_name_index)==i\n",
    "#     plt.scatter(xy[subset,0], xy[subset,1], s=20, c=c)\n",
    "# plt.axis('equal');"
   ]
  },
  {
   "cell_type": "code",
   "execution_count": null,
   "id": "af5f04f0",
   "metadata": {},
   "outputs": [],
   "source": [
    "# cmap = ['#a6cee3','#1f78b4','#b2df8a','#33a02c','#fb9a99','#e31a1c','#fdbf6f','#ff7f00','#cab2d6','#6a3d9a','#ffff99','#b15928']"
   ]
  },
  {
   "cell_type": "code",
   "execution_count": null,
   "id": "3e89f7ea",
   "metadata": {},
   "outputs": [],
   "source": []
  }
 ],
 "metadata": {
  "kernelspec": {
   "display_name": "Python 3 (ipykernel)",
   "language": "python",
   "name": "python3"
  },
  "language_info": {
   "codemirror_mode": {
    "name": "ipython",
    "version": 3
   },
   "file_extension": ".py",
   "mimetype": "text/x-python",
   "name": "python",
   "nbconvert_exporter": "python",
   "pygments_lexer": "ipython3",
   "version": "3.12.2"
  }
 },
 "nbformat": 4,
 "nbformat_minor": 5
}
