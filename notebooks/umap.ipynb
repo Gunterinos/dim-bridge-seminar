{
 "cells": [
  {
   "cell_type": "code",
   "execution_count": null,
   "id": "28125f6f",
   "metadata": {},
   "outputs": [],
   "source": [
    "import json\n",
    "\n",
    "import torch\n",
    "from torch import nn\n",
    "from torch import optim\n",
    "\n",
    "import numpy as np\n",
    "import pandas as pd\n",
    "from umap import UMAP\n",
    "from sklearn.manifold import TSNE\n",
    "\n",
    "import matplotlib.pyplot as plt\n",
    "plt.style.use('ggplot')\n",
    "plt.style.use('seaborn-v0_8-colorblind')\n",
    "from matplotlib import cm\n",
    "cmap = cm.get_cmap('tab10')"
   ]
  },
  {
   "cell_type": "markdown",
   "id": "f8e1dd9b",
   "metadata": {},
   "source": [
    "## Animals"
   ]
  },
  {
   "cell_type": "code",
   "execution_count": null,
   "id": "5da4141b",
   "metadata": {},
   "outputs": [],
   "source": [
    "\n",
    "attr_names = json.load(open('./dataset/animals5/attribute_names.json'))\n",
    "print('Attributes:')\n",
    "display(attr_names)\n",
    "\n",
    "if type(attr_names[0]) is list:\n",
    "    attr_names = [a[0] for a in attr_names]\n",
    "\n",
    "    \n",
    "attrs = torch.load('./dataset/animals5/attributes.th')\n",
    "df = pd.DataFrame(attrs, columns=attr_names)"
   ]
  },
  {
   "cell_type": "code",
   "execution_count": null,
   "id": "166ef012",
   "metadata": {},
   "outputs": [],
   "source": [
    "df.shape"
   ]
  },
  {
   "cell_type": "code",
   "execution_count": null,
   "id": "93d15066",
   "metadata": {},
   "outputs": [],
   "source": [
    "%%time\n",
    "\n",
    "x = df.to_numpy()\n",
    "xy = UMAP(min_dist=0.5).fit_transform(x)\n",
    "# xy = TSNE().fit_transform(x)\n",
    "plt.scatter(xy[:,0], xy[:,1], s=2)\n"
   ]
  },
  {
   "cell_type": "code",
   "execution_count": null,
   "id": "b307acad",
   "metadata": {},
   "outputs": [],
   "source": [
    "# np.save('xy.npy', xy)"
   ]
  },
  {
   "cell_type": "code",
   "execution_count": null,
   "id": "387fe491",
   "metadata": {},
   "outputs": [],
   "source": [
    "df['x'] = xy[:,0]\n",
    "df['y'] = xy[:,1]\n",
    "df['image_filename'] = [f'animal-{i}.jpg' for i in range(len(df))]\n"
   ]
  },
  {
   "cell_type": "code",
   "execution_count": null,
   "id": "53521951",
   "metadata": {},
   "outputs": [],
   "source": [
    "df.to_csv('animals5.csv', index=False)"
   ]
  },
  {
   "cell_type": "code",
   "execution_count": null,
   "id": "908a7a9e",
   "metadata": {},
   "outputs": [],
   "source": [
    "plt.figure(figsize=[4*5,4*2], dpi=120)\n",
    "\n",
    "for i, color_by in enumerate(attr_names):\n",
    "    plt.subplot(3,5,i+1)\n",
    "    plt.scatter(xy[:,0], xy[:,1], s=2, c=df[color_by])\n",
    "    plt.axis('equal')\n",
    "    plt.colorbar()\n",
    "    plt.title(f'colored by \"{color_by}\"')\n",
    "plt.show()\n"
   ]
  },
  {
   "cell_type": "markdown",
   "id": "68b61e3d",
   "metadata": {},
   "source": [
    "## Gait"
   ]
  },
  {
   "cell_type": "code",
   "execution_count": null,
   "id": "118045dc",
   "metadata": {},
   "outputs": [],
   "source": [
    "df = pd.read_csv('./dataset/gait_raw.csv')\n",
    "\n",
    "df_join = pd.DataFrame()\n",
    "for group, group_df in df.groupby(['subject', 'condition', 'replication']):\n",
    "#     print(group, group_df)\n",
    "    dfs = []\n",
    "    for i in range(6):\n",
    "        d = group_df[i*101:(i+1)*101].reset_index(drop=True)\n",
    "        leg = d['leg'][0]\n",
    "        joint = d['joint'][0]\n",
    "        d = d.rename(columns={\n",
    "            'angle': f'leg{leg}.joint{joint}.angle'\n",
    "        })\n",
    "        d = d.drop(columns=['leg','joint'])     \n",
    "        if i>0:\n",
    "            d = d.drop(columns=['subject', 'condition', 'replication','time'])\n",
    "        dfs.append(d)\n",
    "    d = pd.concat(dfs, axis=1)\n",
    "    \n",
    "    df_join = pd.concat([df_join, d], axis=0)\n",
    "\n",
    "## choose only one replication\n",
    "df_join = df_join[df_join['subject']<=2]\n",
    "## reorder columns\n",
    "df_join = df_join.iloc[:, [4,5,6,7,8,9,0,1,2,3]]\n",
    "df_join"
   ]
  },
  {
   "cell_type": "code",
   "execution_count": null,
   "id": "942471f1",
   "metadata": {},
   "outputs": [],
   "source": [
    "%%time\n",
    "\n",
    "## use only angle columns plus x for UMAP\n",
    "x = df_join.iloc[:,[0,1,2,3,4,5]].to_numpy()\n",
    "\n",
    "xy = UMAP(min_dist=0.5).fit_transform(x)\n",
    "plt.scatter(xy[:,0], xy[:,1], s=2)\n",
    "\n",
    "# t = df_join['time'].to_numpy()\n",
    "# xy = UMAP(min_dist=0.5, n_components=1).fit_transform(x)\n",
    "# plt.scatter(t, xy[:,0], s=2)\n"
   ]
  },
  {
   "cell_type": "code",
   "execution_count": null,
   "id": "0329e570",
   "metadata": {},
   "outputs": [],
   "source": [
    "c = df_join['condition']\n",
    "plt.scatter(xy[:,0], xy[:,1], s=2, c=c, cmap='viridis')\n",
    "plt.colorbar()"
   ]
  },
  {
   "cell_type": "code",
   "execution_count": null,
   "id": "2b1c9719",
   "metadata": {},
   "outputs": [],
   "source": [
    "c = df_join['time']\n",
    "plt.scatter(df_join['time'], xy[:,0], s=2, c=c, cmap='viridis')\n"
   ]
  },
  {
   "cell_type": "code",
   "execution_count": null,
   "id": "728a205e",
   "metadata": {},
   "outputs": [],
   "source": [
    "df_join['x'] = xy[:,0]\n",
    "df_join['y'] = xy[:,1]\n",
    "df_join.to_csv('dataset/gait2.csv', index=False)"
   ]
  },
  {
   "cell_type": "code",
   "execution_count": null,
   "id": "c9b8f1ad",
   "metadata": {},
   "outputs": [],
   "source": [
    "# # ## combine rows for Gait data\n",
    "\n",
    "# # df_join = pd.DataFrame()\n",
    "\n",
    "# # for group, group_df in df.groupby(['subject', 'condition', 'replication']):\n",
    "# # #     print(group, group_df\n",
    "# #     dfs = []\n",
    "# #     for i in range(6):\n",
    "# #         d = group_df[i*101:(i+1)*101].reset_index(drop=True)\n",
    "# #         leg = d['leg'][0]\n",
    "# #         joint = d['joint'][0]\n",
    "# #         d = d.rename(columns={\n",
    "# #             'angle': f'leg{leg}.joint{joint}.angle'\n",
    "# #         })\n",
    "# #         d = d.drop(columns=['leg','joint'])     \n",
    "# #         if i>0:\n",
    "# #             d = d.drop(columns=['subject', 'condition', 'replication','time'])\n",
    "# #         dfs.append(d)\n",
    "# #     d = pd.concat(dfs, axis=1)\n",
    "    \n",
    "# #     df_join = pd.concat([df_join, d], axis=0)\n",
    "\n",
    "# df_join\n",
    "# x0 = df_join.to_numpy()\n",
    "# df_join\n",
    "# # df_join.to_csv('gait_joined.csv', index=False)"
   ]
  },
  {
   "cell_type": "code",
   "execution_count": null,
   "id": "e222f190",
   "metadata": {},
   "outputs": [],
   "source": [
    "# %%time\n",
    "# xy = UMAP().fit_transform(x0[:,4:])\n",
    "# np.save('xy.npy', xy)\n",
    "\n",
    "# xy = np.load('xy.npy')"
   ]
  },
  {
   "cell_type": "code",
   "execution_count": null,
   "id": "6b3fb291",
   "metadata": {},
   "outputs": [],
   "source": []
  },
  {
   "cell_type": "code",
   "execution_count": null,
   "id": "ecbd34bb",
   "metadata": {},
   "outputs": [],
   "source": [
    "# c = df_join['subject']\n",
    "c = df_join['condition']\n",
    "# c = df_join['replication']\n",
    "\n",
    "plt.scatter(xy[:,0], xy[:,1], s=2, c=c, cmap='tab10')\n",
    "plt.colorbar()\n"
   ]
  },
  {
   "cell_type": "code",
   "execution_count": null,
   "id": "70e291e6",
   "metadata": {},
   "outputs": [],
   "source": [
    "## Meuse\n"
   ]
  },
  {
   "cell_type": "code",
   "execution_count": null,
   "id": "d4feb5c6",
   "metadata": {},
   "outputs": [],
   "source": [
    "# df = pd.read_csv('./dataset/meuse.txt')\n",
    "# plt.scatter(df['x'], df['y'])"
   ]
  },
  {
   "cell_type": "markdown",
   "id": "96916694",
   "metadata": {},
   "source": [
    "## predicates deduction 0"
   ]
  },
  {
   "cell_type": "code",
   "execution_count": null,
   "id": "bf44b999",
   "metadata": {},
   "outputs": [],
   "source": [
    "subset = np.logical_and(\n",
    "    np.logical_and(0 < xy[:,0], xy[:,0] < 5),\n",
    "    np.logical_and(0 < xy[:,1], xy[:,1] < 5),\n",
    ")\n",
    "\n",
    "plt.scatter(xy[:,0], xy[:,1], s=1, c='#666')\n",
    "plt.scatter(xy[subset,0], xy[subset,1], s=2, c=df['replication'][subset])"
   ]
  },
  {
   "cell_type": "code",
   "execution_count": null,
   "id": "f0840c73",
   "metadata": {},
   "outputs": [],
   "source": [
    "b = 4\n",
    "def predict(x, a, mu):\n",
    "    return 1/(1+((a*(x-mu)).pow(b)).sum(1))\n",
    "\n",
    "\n",
    "\n",
    "def predicate(x0, subset):\n",
    "    '''subset boolean array of selection'''\n",
    "    \n",
    "    ## prepare training data\n",
    "    x = torch.from_numpy(x0.astype(np.float32))\n",
    "    x_mean = x.mean(0)\n",
    "    x_std = x.std(0)+1\n",
    "    x = (x-x_mean)/(x_std)\n",
    "    label = torch.from_numpy(subset).float()\n",
    "    \n",
    "    bce = nn.BCELoss()\n",
    "    a = torch.randn(x.shape[1]).requires_grad_(True)\n",
    "    mu = torch.randn(x.shape[1]).requires_grad_(True)\n",
    "    optimizer = optim.SGD([mu, a,], lr=1e-2, momentum=0.9, weight_decay=0.01)\n",
    "    for e in range(3000):\n",
    "        pred = predict(x, a, mu)\n",
    "        l = bce(pred, label)\n",
    "        optimizer.zero_grad()\n",
    "        l.backward()\n",
    "        optimizer.step()\n",
    "        if e % 500 == 0:\n",
    "            print('loss', l.item())    \n",
    "    a.detach_()\n",
    "    mu.detach_()\n",
    "    \n",
    "#     plt.stem(a.abs().numpy())\n",
    "#     plt.show()\n",
    "    \n",
    "    r = 1/a.abs()\n",
    "    print(\n",
    "        'accuracy', \n",
    "        ((pred>0.5).float() == label).float().sum().item(), \n",
    "    '/', subset.shape[0])\n",
    "    \n",
    "    predicates = []\n",
    "    for k in range(mu.shape[0]):\n",
    "        if r[k] < 0.5 * (x[:,k].max()-x[:,k].min()):\n",
    "            r_k = (r[k] * x_std[k]).item()\n",
    "            mu_k = (mu[k] * x_std[k] + x_mean[k]).item()\n",
    "            ci = ((mu_k-r_k), (mu_k+r_k))\n",
    "            predicates.append(dict(\n",
    "                dim=k, interval=ci\n",
    "            ))\n",
    "    return dict(\n",
    "        predicates=predicates\n",
    "    )\n",
    "\n",
    "            \n",
    "predicate(x0, subset)"
   ]
  },
  {
   "cell_type": "code",
   "execution_count": null,
   "id": "0b4b3329",
   "metadata": {},
   "outputs": [],
   "source": [
    "plt.scatter(xy[:,0], xy[:,1], s=0.1, c=pred.detach().numpy())\n",
    "plt.colorbar()\n"
   ]
  },
  {
   "cell_type": "code",
   "execution_count": null,
   "id": "29c214f6",
   "metadata": {},
   "outputs": [],
   "source": []
  },
  {
   "cell_type": "code",
   "execution_count": null,
   "id": "3c4e543b",
   "metadata": {},
   "outputs": [],
   "source": [
    "plt.hist(x0[subset,5], bins=60);\n",
    "plt.hist(x0[~subset,5], bins=60, alpha=0.1);"
   ]
  },
  {
   "cell_type": "code",
   "execution_count": null,
   "id": "30f2a45e",
   "metadata": {},
   "outputs": [],
   "source": [
    "x[subset,4:7].min(0).values, x[subset,4:7].max(0).values"
   ]
  },
  {
   "cell_type": "code",
   "execution_count": null,
   "id": "2c35dc27",
   "metadata": {},
   "outputs": [],
   "source": [
    "x[~subset,4:7].min(0).values, x[~subset,4:7].max(0).values"
   ]
  },
  {
   "cell_type": "code",
   "execution_count": null,
   "id": "6274e02b",
   "metadata": {},
   "outputs": [],
   "source": []
  },
  {
   "cell_type": "code",
   "execution_count": null,
   "id": "0b7b79da",
   "metadata": {},
   "outputs": [],
   "source": []
  },
  {
   "cell_type": "code",
   "execution_count": null,
   "id": "b92c407f",
   "metadata": {},
   "outputs": [],
   "source": []
  }
 ],
 "metadata": {
  "kernelspec": {
   "display_name": "Python 3 (ipykernel)",
   "language": "python",
   "name": "python3"
  },
  "language_info": {
   "codemirror_mode": {
    "name": "ipython",
    "version": 3
   },
   "file_extension": ".py",
   "mimetype": "text/x-python",
   "name": "python",
   "nbconvert_exporter": "python",
   "pygments_lexer": "ipython3",
   "version": "3.8.10"
  }
 },
 "nbformat": 4,
 "nbformat_minor": 5
}
