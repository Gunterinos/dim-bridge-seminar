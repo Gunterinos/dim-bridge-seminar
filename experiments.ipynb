{
 "cells": [
  {
   "cell_type": "code",
   "execution_count": null,
   "id": "28125f6f",
   "metadata": {},
   "outputs": [],
   "source": [
    "import torch\n",
    "from torch import nn\n",
    "from torch import optim\n",
    "\n",
    "import numpy as np\n",
    "import pandas as pd\n",
    "from umap import UMAP\n",
    "\n",
    "import matplotlib.pyplot as plt\n",
    "plt.style.use('ggplot')\n",
    "plt.style.use('seaborn-v0_8-colorblind')\n"
   ]
  },
  {
   "cell_type": "code",
   "execution_count": null,
   "id": "e54781d8",
   "metadata": {},
   "outputs": [],
   "source": [
    "df = pd.read_csv('./dataset/gait.csv')\n",
    "x0 = df.to_numpy()\n",
    "\n",
    "n_points = 10*101*6\n",
    "df = df[:n_points]\n",
    "x0 = x0[:n_points]\n",
    "df"
   ]
  },
  {
   "cell_type": "code",
   "execution_count": null,
   "id": "e222f190",
   "metadata": {},
   "outputs": [],
   "source": [
    "# %%time\n",
    "# xy = UMAP().fit_transform(x0)\n",
    "# plt.scatter(xy[:,0], xy[:,1], s=2, c=df['replication'])\n",
    "# np.save('xy.npy', xy)"
   ]
  },
  {
   "cell_type": "markdown",
   "id": "96916694",
   "metadata": {},
   "source": [
    "## predicates deduction"
   ]
  },
  {
   "cell_type": "code",
   "execution_count": null,
   "id": "bf44b999",
   "metadata": {},
   "outputs": [],
   "source": [
    "subset = np.logical_and(\n",
    "    np.logical_and(0 < xy[:,0], xy[:,0] < 5),\n",
    "    np.logical_and(0 < xy[:,1], xy[:,1] < 5),\n",
    ")\n",
    "\n",
    "plt.scatter(xy[:,0], xy[:,1], s=1, c='#666')\n",
    "plt.scatter(xy[subset,0], xy[subset,1], s=2, c=df['replication'][subset])"
   ]
  },
  {
   "cell_type": "code",
   "execution_count": null,
   "id": "f0840c73",
   "metadata": {},
   "outputs": [],
   "source": [
    "b = 4\n",
    "def predict(x, a, mu):\n",
    "    return 1/(1+((a*(x-mu)).pow(b)).sum(1))\n",
    "\n",
    "\n",
    "\n",
    "def predicate(x0, subset):\n",
    "    '''subset boolean array of selection'''\n",
    "    \n",
    "    ## prepare training data\n",
    "    x = torch.from_numpy(x0.astype(np.float32))\n",
    "    x_mean = x.mean(0)\n",
    "    x_std = x.std(0)+1\n",
    "    x = (x-x_mean)/(x_std)\n",
    "    label = torch.from_numpy(subset).float()\n",
    "    \n",
    "    bce = nn.BCELoss()\n",
    "    a = torch.randn(x.shape[1]).requires_grad_(True)\n",
    "    mu = torch.randn(x.shape[1]).requires_grad_(True)\n",
    "    optimizer = optim.SGD([mu, a,], lr=1e-2, momentum=0.9, weight_decay=0.01)\n",
    "    for e in range(3000):\n",
    "        pred = predict(x, a, mu)\n",
    "        l = bce(pred, label)\n",
    "        optimizer.zero_grad()\n",
    "        l.backward()\n",
    "        optimizer.step()\n",
    "        if e % 500 == 0:\n",
    "            print('loss', l.item())    \n",
    "    a.detach_()\n",
    "    mu.detach_()\n",
    "    \n",
    "#     plt.stem(a.abs().numpy())\n",
    "#     plt.show()\n",
    "    \n",
    "    r = 1/a.abs()\n",
    "    print(\n",
    "        'accuracy', \n",
    "        ((pred>0.5).float() == label).float().sum().item(), \n",
    "    '/', subset.shape[0])\n",
    "    \n",
    "    predicates = []\n",
    "    for k in range(mu.shape[0]):\n",
    "        if r[k] < 0.5 * (x[:,k].max()-x[:,k].min()):\n",
    "            r_k = (r[k] * x_std[k]).item()\n",
    "            mu_k = (mu[k] * x_std[k] + x_mean[k]).item()\n",
    "            ci = ((mu_k-r_k), (mu_k+r_k))\n",
    "            predicates.append(dict(\n",
    "                dim=k, interval=ci\n",
    "            ))\n",
    "    return dict(\n",
    "        predicates=predicates\n",
    "    )\n",
    "\n",
    "            \n",
    "predicate(x0, subset)"
   ]
  },
  {
   "cell_type": "code",
   "execution_count": null,
   "id": "0b4b3329",
   "metadata": {},
   "outputs": [],
   "source": [
    "plt.scatter(xy[:,0], xy[:,1], s=0.1, c=pred.detach().numpy())\n",
    "plt.colorbar()\n"
   ]
  },
  {
   "cell_type": "code",
   "execution_count": null,
   "id": "29c214f6",
   "metadata": {},
   "outputs": [],
   "source": []
  },
  {
   "cell_type": "code",
   "execution_count": null,
   "id": "3c4e543b",
   "metadata": {},
   "outputs": [],
   "source": [
    "plt.hist(x0[subset,5], bins=60);\n",
    "plt.hist(x0[~subset,5], bins=60, alpha=0.1);"
   ]
  },
  {
   "cell_type": "code",
   "execution_count": null,
   "id": "30f2a45e",
   "metadata": {},
   "outputs": [],
   "source": [
    "x[subset,4:7].min(0).values, x[subset,4:7].max(0).values"
   ]
  },
  {
   "cell_type": "code",
   "execution_count": null,
   "id": "2c35dc27",
   "metadata": {},
   "outputs": [],
   "source": [
    "x[~subset,4:7].min(0).values, x[~subset,4:7].max(0).values"
   ]
  },
  {
   "cell_type": "code",
   "execution_count": null,
   "id": "6274e02b",
   "metadata": {},
   "outputs": [],
   "source": []
  },
  {
   "cell_type": "code",
   "execution_count": null,
   "id": "0b7b79da",
   "metadata": {},
   "outputs": [],
   "source": []
  },
  {
   "cell_type": "code",
   "execution_count": null,
   "id": "b92c407f",
   "metadata": {},
   "outputs": [],
   "source": []
  }
 ],
 "metadata": {
  "kernelspec": {
   "display_name": "Python 3 (ipykernel)",
   "language": "python",
   "name": "python3"
  },
  "language_info": {
   "codemirror_mode": {
    "name": "ipython",
    "version": 3
   },
   "file_extension": ".py",
   "mimetype": "text/x-python",
   "name": "python",
   "nbconvert_exporter": "python",
   "pygments_lexer": "ipython3",
   "version": "3.8.10"
  }
 },
 "nbformat": 4,
 "nbformat_minor": 5
}
